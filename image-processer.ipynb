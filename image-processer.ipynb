{
 "metadata": {
  "language_info": {
   "codemirror_mode": {
    "name": "ipython",
    "version": 3
   },
   "file_extension": ".py",
   "mimetype": "text/x-python",
   "name": "python",
   "nbconvert_exporter": "python",
   "pygments_lexer": "ipython3",
   "version": "3.8.5-final"
  },
  "orig_nbformat": 2,
  "kernelspec": {
   "name": "Python 3.8.5 64-bit ('lab': conda)",
   "display_name": "Python 3.8.5 64-bit ('lab': conda)",
   "metadata": {
    "interpreter": {
     "hash": "8d098568385a393a48b86827cfe72d2e2071e773f724bd9b2ec45d39600f9878"
    }
   }
  }
 },
 "nbformat": 4,
 "nbformat_minor": 2,
 "cells": [
  {
   "cell_type": "code",
   "execution_count": 8,
   "metadata": {},
   "outputs": [],
   "source": [
    "from PIL import Image, ImageFilter\n",
    "\n",
    "class MyGaussianBlur(ImageFilter.Filter):\n",
    "    name = \"GaussianBlur\"\n",
    "\n",
    "    def __init__(self, radius=2, bounds=None):\n",
    "        self.radius = radius\n",
    "        self.bounds = bounds\n",
    "\n",
    "    def filter(self, image):\n",
    "        if self.bounds:\n",
    "            clips = image.crop(self.bounds).gaussian_blur(self.radius)\n",
    "            image.paste(clips, self.bounds)\n",
    "            return image\n",
    "        else:\n",
    "            return image.gaussian_blur(self.radius)"
   ]
  },
  {
   "cell_type": "code",
   "execution_count": 9,
   "metadata": {},
   "outputs": [],
   "source": [
    "from PIL import Image, ImageFilter\n",
    "# 打开图像\n",
    "im1 = Image.open('background.jpg')\n",
    "# 创建一个im1两倍宽的图像\n",
    "img = Image.new('RGB', (im1.width*2, im1.height), 'red')\n",
    "# 高斯模糊处理\n",
    "im2 = im1.filter(MyGaussianBlur(radius=10))\n",
    "# 将im1粘贴到img上\n",
    "img.paste(im1, (0, 0))\n",
    "# 将im2（高斯模糊后的图像）粘贴到img上\n",
    "img.paste(im2, (im1.width, 0))\n",
    "img.show()\n",
    "im2.save('src/assets/gnome-shell/common-assets/background.jpg')"
   ]
  },
  {
   "cell_type": "code",
   "execution_count": null,
   "metadata": {},
   "outputs": [],
   "source": []
  }
 ]
}